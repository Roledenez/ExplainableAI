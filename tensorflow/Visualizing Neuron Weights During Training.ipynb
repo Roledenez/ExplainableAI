{
 "cells": [
  {
   "cell_type": "code",
   "execution_count": 1,
   "id": "940583e3",
   "metadata": {},
   "outputs": [],
   "source": [
    "# http://www.moxleystratton.com/tensorflow-visualizing-weights/"
   ]
  },
  {
   "cell_type": "code",
   "execution_count": 2,
   "id": "d6c5ce5c",
   "metadata": {},
   "outputs": [],
   "source": [
    "import tensorflow as tf\n",
    "from tensorflow import keras\n",
    "import numpy as np\n",
    "import matplotlib.pyplot as plt"
   ]
  },
  {
   "cell_type": "code",
   "execution_count": 11,
   "id": "774c192e",
   "metadata": {},
   "outputs": [],
   "source": [
    "# Sequential: https://www.tensorflow.org/api_docs/python/tf/keras/models/Sequential\n",
    "model = keras.Sequential([\n",
    "    keras.layers.Dense(1, input_shape=(2,), activation='tanh')\n",
    "])\n",
    "\n",
    "learning_rate = 0.5\n",
    "# optimizer = tf.train.GradientDescentOptimizer(learning_rate)\n",
    "optimizer = tf.optimizers.SGD (learning_rate=learning_rate, name='SGD')\n",
    "model.compile(optimizer='adam',\n",
    "              loss='mean_squared_error',\n",
    "              metrics=['accuracy'])"
   ]
  },
  {
   "cell_type": "code",
   "execution_count": 12,
   "id": "b86f1dcf",
   "metadata": {},
   "outputs": [],
   "source": [
    "# This function is used to generate training labels\n",
    "# We need to match neuron's activation function\n",
    "def tanh(x):\n",
    "    x_sum = np.sum(x)\n",
    "    return np.tanh(x_sum)\n",
    "\n",
    "train_data = np.random.random((500, 2))\n",
    "train_labels = np.array(list(map(tanh, train_data)))"
   ]
  },
  {
   "cell_type": "code",
   "execution_count": 13,
   "id": "42f24851",
   "metadata": {},
   "outputs": [
    {
     "name": "stdout",
     "output_type": "stream",
     "text": [
      "1/1 [==============================] - 0s 429ms/step - loss: 0.0043 - accuracy: 0.0000e+00\n",
      "loss: 0.00429026922211051\n"
     ]
    }
   ],
   "source": [
    "test_data = np.random.random((10, 2))\n",
    "test_labels = np.array(list(map(tanh, test_data)))\n",
    "\n",
    "test_loss, _ = model.evaluate(test_data, test_labels)\n",
    "print('loss:', test_loss)\n",
    "# loss: 0.19740669429302216"
   ]
  },
  {
   "cell_type": "code",
   "execution_count": 14,
   "id": "5e81c2e4",
   "metadata": {},
   "outputs": [],
   "source": [
    "# Records the weights throughout the training process\n",
    "weights_history = []\n",
    "\n",
    "# A custom callback\n",
    "# https://www.tensorflow.org/api_docs/python/tf/keras/callbacks/Callback\n",
    "class MyCallback(keras.callbacks.Callback):\n",
    "    def on_batch_end(self, batch, logs):\n",
    "        weights, _biases = model.get_weights()\n",
    "        w1, w2 = weights\n",
    "        weights = [w1[0], w2[0]]\n",
    "        print('on_batch_end() model.weights:', weights)\n",
    "        weights_history.append(weights)\n",
    "\n",
    "\n",
    "callback = MyCallback()"
   ]
  },
  {
   "cell_type": "code",
   "execution_count": 29,
   "id": "7a46bda1",
   "metadata": {},
   "outputs": [
    {
     "name": "stdout",
     "output_type": "stream",
     "text": [
      "on_batch_end() model.weights: [0.9956526, 0.9961216]\n",
      "on_batch_end() model.weights: [0.9956732, 0.9961394]\n",
      "on_batch_end() model.weights: [0.99569225, 0.99615663]\n",
      "on_batch_end() model.weights: [0.99570954, 0.9961711]\n",
      "on_batch_end() model.weights: [0.9957274, 0.9961865]\n",
      "on_batch_end() model.weights: [0.9957462, 0.99620277]\n",
      "WARNING:tensorflow:Callback method `on_train_batch_end` is slow compared to the batch time (batch time: 0.0000s vs `on_train_batch_end` time: 0.0026s). Check your callbacks.\n",
      "on_batch_end() model.weights: [0.9957642, 0.9962182]\n",
      "on_batch_end() model.weights: [0.99578166, 0.9962339]\n",
      "on_batch_end() model.weights: [0.9957992, 0.99624956]\n",
      "on_batch_end() model.weights: [0.9958181, 0.99626744]\n",
      "on_batch_end() model.weights: [0.99583745, 0.99628377]\n",
      "on_batch_end() model.weights: [0.99585754, 0.99630153]\n",
      "on_batch_end() model.weights: [0.9958776, 0.9963176]\n",
      "on_batch_end() model.weights: [0.99589795, 0.9963353]\n",
      "on_batch_end() model.weights: [0.99591833, 0.9963538]\n",
      "on_batch_end() model.weights: [0.99593866, 0.99637175]\n",
      "on_batch_end() model.weights: [0.99595946, 0.9963905]\n",
      "on_batch_end() model.weights: [0.9959787, 0.99640805]\n",
      "on_batch_end() model.weights: [0.9959984, 0.9964259]\n",
      "on_batch_end() model.weights: [0.9960183, 0.99644285]\n",
      "on_batch_end() model.weights: [0.9960384, 0.9964598]\n",
      "on_batch_end() model.weights: [0.9960591, 0.9964767]\n",
      "on_batch_end() model.weights: [0.9960788, 0.9964929]\n",
      "on_batch_end() model.weights: [0.9960985, 0.9965093]\n",
      "on_batch_end() model.weights: [0.9961168, 0.9965236]\n",
      "on_batch_end() model.weights: [0.9961352, 0.9965391]\n",
      "on_batch_end() model.weights: [0.9961528, 0.9965533]\n",
      "on_batch_end() model.weights: [0.9961697, 0.99656767]\n",
      "on_batch_end() model.weights: [0.99618584, 0.99658227]\n",
      "on_batch_end() model.weights: [0.99620295, 0.9965983]\n",
      "on_batch_end() model.weights: [0.99622005, 0.9966145]\n",
      "on_batch_end() model.weights: [0.9962387, 0.9966312]\n",
      "on_batch_end() model.weights: [0.9962572, 0.9966479]\n",
      "on_batch_end() model.weights: [0.9962762, 0.99666536]\n",
      "on_batch_end() model.weights: [0.99629545, 0.99668336]\n",
      "on_batch_end() model.weights: [0.9963145, 0.99670154]\n",
      "on_batch_end() model.weights: [0.9963333, 0.9967198]\n",
      "on_batch_end() model.weights: [0.9963513, 0.99673706]\n",
      "on_batch_end() model.weights: [0.9963687, 0.99675405]\n",
      "on_batch_end() model.weights: [0.9963859, 0.99676925]\n",
      "on_batch_end() model.weights: [0.99640197, 0.9967835]\n",
      "on_batch_end() model.weights: [0.99641687, 0.996796]\n",
      "on_batch_end() model.weights: [0.9964321, 0.9968096]\n",
      "on_batch_end() model.weights: [0.99644685, 0.99682176]\n",
      "on_batch_end() model.weights: [0.99646163, 0.9968338]\n",
      "on_batch_end() model.weights: [0.996477, 0.9968463]\n",
      "on_batch_end() model.weights: [0.996492, 0.9968589]\n",
      "on_batch_end() model.weights: [0.9965086, 0.9968724]\n",
      "on_batch_end() model.weights: [0.9965246, 0.996885]\n",
      "on_batch_end() model.weights: [0.9965409, 0.9968971]\n",
      "on_batch_end() model.weights: [0.9965553, 0.99690825]\n",
      "on_batch_end() model.weights: [0.99656963, 0.99692]\n",
      "on_batch_end() model.weights: [0.9965837, 0.9969315]\n",
      "on_batch_end() model.weights: [0.99659735, 0.9969441]\n",
      "on_batch_end() model.weights: [0.9966115, 0.9969575]\n",
      "on_batch_end() model.weights: [0.99662644, 0.99697155]\n",
      "on_batch_end() model.weights: [0.99664307, 0.99698657]\n",
      "on_batch_end() model.weights: [0.99665964, 0.9970023]\n",
      "on_batch_end() model.weights: [0.9966763, 0.99701864]\n",
      "on_batch_end() model.weights: [0.996693, 0.9970341]\n",
      "on_batch_end() model.weights: [0.99671, 0.9970497]\n",
      "on_batch_end() model.weights: [0.99672663, 0.9970651]\n",
      "on_batch_end() model.weights: [0.99674255, 0.9970792]\n",
      "on_batch_end() model.weights: [0.99675804, 0.99709105]\n",
      "on_batch_end() model.weights: [0.99677193, 0.9971018]\n",
      "on_batch_end() model.weights: [0.99678516, 0.9971111]\n",
      "on_batch_end() model.weights: [0.996799, 0.9971219]\n",
      "on_batch_end() model.weights: [0.99681246, 0.99713343]\n",
      "on_batch_end() model.weights: [0.99682647, 0.99714524]\n",
      "on_batch_end() model.weights: [0.99684024, 0.99715745]\n",
      "on_batch_end() model.weights: [0.99685484, 0.99717045]\n",
      "on_batch_end() model.weights: [0.99686927, 0.9971839]\n",
      "on_batch_end() model.weights: [0.9968844, 0.99719757]\n",
      "on_batch_end() model.weights: [0.9968997, 0.99721205]\n",
      "on_batch_end() model.weights: [0.9969147, 0.9972264]\n",
      "on_batch_end() model.weights: [0.99692965, 0.99724036]\n",
      "on_batch_end() model.weights: [0.9969457, 0.9972554]\n",
      "on_batch_end() model.weights: [0.9969615, 0.9972696]\n",
      "on_batch_end() model.weights: [0.9969775, 0.9972832]\n",
      "on_batch_end() model.weights: [0.99699396, 0.9972966]\n",
      "on_batch_end() model.weights: [0.99701023, 0.9973098]\n",
      "on_batch_end() model.weights: [0.9970264, 0.99732304]\n",
      "on_batch_end() model.weights: [0.9970422, 0.99733734]\n",
      "on_batch_end() model.weights: [0.99705744, 0.99734986]\n",
      "on_batch_end() model.weights: [0.99707264, 0.9973627]\n",
      "on_batch_end() model.weights: [0.99708766, 0.99737465]\n",
      "on_batch_end() model.weights: [0.9971028, 0.99738735]\n",
      "on_batch_end() model.weights: [0.997118, 0.99739915]\n",
      "on_batch_end() model.weights: [0.99713296, 0.99741226]\n",
      "on_batch_end() model.weights: [0.9971478, 0.99742484]\n",
      "on_batch_end() model.weights: [0.9971622, 0.9974365]\n",
      "on_batch_end() model.weights: [0.9971754, 0.9974482]\n",
      "on_batch_end() model.weights: [0.997189, 0.99745977]\n",
      "on_batch_end() model.weights: [0.9972035, 0.9974726]\n",
      "on_batch_end() model.weights: [0.9972177, 0.9974849]\n",
      "on_batch_end() model.weights: [0.99723196, 0.9974978]\n",
      "on_batch_end() model.weights: [0.99724615, 0.9975116]\n",
      "on_batch_end() model.weights: [0.99726015, 0.99752516]\n",
      "on_batch_end() model.weights: [0.9972738, 0.9975386]\n",
      "on_batch_end() model.weights: [0.9972874, 0.9975519]\n",
      "on_batch_end() model.weights: [0.997301, 0.99756503]\n",
      "on_batch_end() model.weights: [0.9973147, 0.99757695]\n",
      "on_batch_end() model.weights: [0.99732816, 0.9975888]\n",
      "on_batch_end() model.weights: [0.99734193, 0.9976009]\n",
      "on_batch_end() model.weights: [0.99735534, 0.99761283]\n",
      "on_batch_end() model.weights: [0.9973689, 0.9976249]\n",
      "on_batch_end() model.weights: [0.9973816, 0.99763584]\n",
      "on_batch_end() model.weights: [0.9973936, 0.99764633]\n",
      "on_batch_end() model.weights: [0.997406, 0.99765724]\n",
      "on_batch_end() model.weights: [0.9974187, 0.9976684]\n",
      "on_batch_end() model.weights: [0.9974309, 0.99767864]\n",
      "on_batch_end() model.weights: [0.99744266, 0.99768883]\n",
      "on_batch_end() model.weights: [0.9974548, 0.99769884]\n",
      "on_batch_end() model.weights: [0.9974669, 0.99770886]\n",
      "on_batch_end() model.weights: [0.9974792, 0.9977186]\n",
      "on_batch_end() model.weights: [0.9974917, 0.99772906]\n",
      "on_batch_end() model.weights: [0.9975045, 0.9977398]\n",
      "on_batch_end() model.weights: [0.99751794, 0.99775183]\n",
      "on_batch_end() model.weights: [0.9975309, 0.9977627]\n",
      "on_batch_end() model.weights: [0.99754375, 0.99777395]\n",
      "on_batch_end() model.weights: [0.9975568, 0.9977856]\n",
      "on_batch_end() model.weights: [0.9975701, 0.99779725]\n",
      "on_batch_end() model.weights: [0.9975824, 0.9978082]\n",
      "on_batch_end() model.weights: [0.9975939, 0.9978189]\n",
      "on_batch_end() model.weights: [0.9976044, 0.9978285]\n",
      "on_batch_end() model.weights: [0.9976149, 0.99783814]\n",
      "on_batch_end() model.weights: [0.9976255, 0.9978477]\n",
      "on_batch_end() model.weights: [0.997636, 0.9978571]\n",
      "on_batch_end() model.weights: [0.9976468, 0.9978664]\n",
      "on_batch_end() model.weights: [0.99765867, 0.99787587]\n",
      "on_batch_end() model.weights: [0.997671, 0.99788594]\n",
      "on_batch_end() model.weights: [0.9976824, 0.99789524]\n",
      "on_batch_end() model.weights: [0.9976931, 0.99790484]\n",
      "on_batch_end() model.weights: [0.99770397, 0.9979146]\n",
      "on_batch_end() model.weights: [0.99771476, 0.99792457]\n",
      "on_batch_end() model.weights: [0.9977258, 0.9979349]\n",
      "on_batch_end() model.weights: [0.9977366, 0.9979438]\n",
      "on_batch_end() model.weights: [0.99774647, 0.99795175]\n",
      "on_batch_end() model.weights: [0.99775696, 0.9979606]\n",
      "on_batch_end() model.weights: [0.99776715, 0.99797016]\n",
      "on_batch_end() model.weights: [0.9977769, 0.9979799]\n",
      "on_batch_end() model.weights: [0.99778724, 0.9979899]\n",
      "on_batch_end() model.weights: [0.99779814, 0.9979998]\n",
      "on_batch_end() model.weights: [0.997809, 0.9980103]\n",
      "on_batch_end() model.weights: [0.99781996, 0.9980208]\n",
      "on_batch_end() model.weights: [0.9978302, 0.9980305]\n",
      "on_batch_end() model.weights: [0.99784076, 0.9980406]\n",
      "on_batch_end() model.weights: [0.9978508, 0.99805033]\n",
      "on_batch_end() model.weights: [0.9978603, 0.9980589]\n",
      "on_batch_end() model.weights: [0.9978699, 0.9980677]\n",
      "on_batch_end() model.weights: [0.99787897, 0.99807656]\n",
      "on_batch_end() model.weights: [0.9978877, 0.99808615]\n",
      "on_batch_end() model.weights: [0.9978974, 0.99809587]\n",
      "on_batch_end() model.weights: [0.9979073, 0.9981064]\n",
      "on_batch_end() model.weights: [0.99791723, 0.99811727]\n",
      "on_batch_end() model.weights: [0.99792826, 0.9981282]\n",
      "on_batch_end() model.weights: [0.99793947, 0.9981393]\n",
      "on_batch_end() model.weights: [0.99795145, 0.9981507]\n",
      "on_batch_end() model.weights: [0.9979632, 0.99816144]\n",
      "on_batch_end() model.weights: [0.997975, 0.9981718]\n"
     ]
    },
    {
     "data": {
      "text/plain": [
       "<tensorflow.python.keras.callbacks.History at 0x24323ac7ac0>"
      ]
     },
     "execution_count": 29,
     "metadata": {},
     "output_type": "execute_result"
    }
   ],
   "source": [
    "# fit(): https://www.tensorflow.org/api_docs/python/tf/keras/models/Sequential#fit\n",
    "model.fit(train_data, train_labels, epochs=10,\n",
    "          verbose=False, callbacks=[callback])"
   ]
  },
  {
   "cell_type": "code",
   "execution_count": 16,
   "id": "82cb6a8f",
   "metadata": {},
   "outputs": [
    {
     "name": "stdout",
     "output_type": "stream",
     "text": [
      "1/1 [==============================] - 0s 38ms/step - loss: 3.6813e-04 - accuracy: 0.0000e+00\n",
      "loss: 0.0003681262314785272\n"
     ]
    }
   ],
   "source": [
    "test_loss, _ = model.evaluate(test_data, test_labels)\n",
    "print('loss:', test_loss)\n",
    "# loss: 0.00015836639795452356"
   ]
  },
  {
   "cell_type": "code",
   "execution_count": 30,
   "id": "c6339f9b",
   "metadata": {},
   "outputs": [
    {
     "data": {
      "image/png": "[encoded data removed]",
      "text/plain": [
       "<Figure size 432x216 with 1 Axes>"
      ]
     },
     "metadata": {
      "needs_background": "light"
     },
     "output_type": "display_data"
    }
   ],
   "source": [
    "plt.figure(1, figsize=(6, 3))\n",
    "plt.plot(weights_history)\n",
    "plt.show()"
   ]
  },
  {
   "cell_type": "code",
   "execution_count": null,
   "id": "9cb2f46e",
   "metadata": {},
   "outputs": [],
   "source": []
  },
  {
   "cell_type": "code",
   "execution_count": null,
   "id": "6f86658e",
   "metadata": {},
   "outputs": [],
   "source": []
  }
 ],
 "metadata": {
  "kernelspec": {
   "display_name": "PyCharm (Explainable AI)",
   "language": "python",
   "name": "pycharm-63b57c3a"
  },
  "language_info": {
   "codemirror_mode": {
    "name": "ipython",
    "version": 3
   },
   "file_extension": ".py",
   "mimetype": "text/x-python",
   "name": "python",
   "nbconvert_exporter": "python",
   "pygments_lexer": "ipython3",
   "version": "3.8.10"
  }
 },
 "nbformat": 4,
 "nbformat_minor": 5
}
